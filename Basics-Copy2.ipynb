{
 "cells": [
  {
   "cell_type": "markdown",
   "metadata": {},
   "source": [
    "# Profitable Mobile Apps for Google Play and App Store\n",
    "This is a project to let the developers know about the types of apps that are the most attractive by the users. We seek for the apps that attract more number of users because we are only interested in free apps. We need more users for the advertisements to reach more people. \n",
    "\n",
    "My goal as a data analyst in this project is to make it clear what is demanded by users. \n",
    "\n",
    "## Opening the datasets\n",
    "\n",
    "Below, we open the two data sets. And then write a function, named **explore_data** that explores the data. The explore_data function receives four parameters: the data set, the starting row index to show, the ending row index to show, and the number of columns and rows."
   ]
  },
  {
   "cell_type": "code",
   "execution_count": 39,
   "metadata": {
    "collapsed": false
   },
   "outputs": [],
   "source": [
    "opened_data=open('AppleStore.csv')\n",
    "from csv import reader\n",
    "read_file=reader(opened_data)\n",
    "apple_data=list(read_file)\n",
    "apple_header=apple_data[0]\n",
    "\n",
    "opened_data2=open('googleplaystore.csv')\n",
    "from csv import reader\n",
    "read_file2=reader(opened_data2)\n",
    "google_data=list(read_file2)\n",
    "google_header=google_data[0]\n",
    "\n",
    "def explore_data(dataset, start, end, rows_and_columns=False):\n",
    "    dataset_slice = dataset[start:end]    \n",
    "    for row in dataset_slice:\n",
    "        print(row)\n",
    "        print('\\n') # adds a new (empty) line after each row\n",
    "\n",
    "    if rows_and_columns:\n",
    "        print('Number of rows:', len(dataset))\n",
    "        print('Number of columns:', len(dataset[0]))\n",
    "        "
   ]
  },
  {
   "cell_type": "markdown",
   "metadata": {},
   "source": [
    "## Explore Datasets\n",
    "Below we see the first two rows of Apple Store dataset. The data set includes 7198 rows and 16 columns. For more details about this dataset, you can check [here](https://www.kaggle.com/ramamet4/app-store-apple-data-set-10k-apps). \n",
    "The columns of the **Apple Dataset**:\n",
    "1. id\n",
    "2. track_name\n",
    "3. size_bytes\n",
    "4. currency\n",
    "5. price\n",
    "6. rating_count_tot\n",
    "7. rating_count_ver\n",
    "8. user_rating\n",
    "9. user_rating_ver\n",
    "10. ver\n",
    "11. cont_rating\n",
    "12. prime_genre\n",
    "13. sup_devices.num\n",
    "14. ipadSc_urls.num\n",
    "15. lang.num\n",
    "16. vpp_lic\n",
    "\n",
    "\n"
   ]
  },
  {
   "cell_type": "code",
   "execution_count": 3,
   "metadata": {
    "collapsed": false
   },
   "outputs": [
    {
     "name": "stdout",
     "output_type": "stream",
     "text": [
      "['id', 'track_name', 'size_bytes', 'currency', 'price', 'rating_count_tot', 'rating_count_ver', 'user_rating', 'user_rating_ver', 'ver', 'cont_rating', 'prime_genre', 'sup_devices.num', 'ipadSc_urls.num', 'lang.num', 'vpp_lic']\n",
      "\n",
      "\n",
      "['284882215', 'Facebook', '389879808', 'USD', '0.0', '2974676', '212', '3.5', '3.5', '95.0', '4+', 'Social Networking', '37', '1', '29', '1']\n",
      "\n",
      "\n",
      "Number of rows: 7198\n",
      "Number of columns: 16\n"
     ]
    }
   ],
   "source": [
    "explore_data(apple_data,0,2,True)"
   ]
  },
  {
   "cell_type": "markdown",
   "metadata": {},
   "source": [
    "The first two rows of the Google Play Store dataset is shown below. The dataset includes 10842 rows and 13 columns. For more details about this dataset, you can check [here](https://www.kaggle.com/lava18/google-play-store-apps).\n",
    "The columns of the **Google Dataset**:\n",
    "1. App\n",
    "2. Category\n",
    "3. Rating\n",
    "4. Reviews\n",
    "5. Size\n",
    "6. Installs\n",
    "7. Type\n",
    "8. Price\n",
    "9. Content Rating\n",
    "10. Genres\n",
    "11. Last Updated\n",
    "12. Current Ver\n",
    "13. Android Ver"
   ]
  },
  {
   "cell_type": "code",
   "execution_count": 4,
   "metadata": {
    "collapsed": false,
    "scrolled": true
   },
   "outputs": [
    {
     "name": "stdout",
     "output_type": "stream",
     "text": [
      "['App', 'Category', 'Rating', 'Reviews', 'Size', 'Installs', 'Type', 'Price', 'Content Rating', 'Genres', 'Last Updated', 'Current Ver', 'Android Ver']\n",
      "\n",
      "\n",
      "['Photo Editor & Candy Camera & Grid & ScrapBook', 'ART_AND_DESIGN', '4.1', '159', '19M', '10,000+', 'Free', '0', 'Everyone', 'Art & Design', 'January 7, 2018', '1.0.0', '4.0.3 and up']\n",
      "\n",
      "\n",
      "Number of rows: 10842\n",
      "Number of columns: 13\n"
     ]
    }
   ],
   "source": [
    "explore_data(google_data,0,2, True)"
   ]
  },
  {
   "cell_type": "markdown",
   "metadata": {},
   "source": [
    "## Data Cleaning\n",
    "Now, we need to make sure that our data is accurate. For this we will\n",
    "1. Detect inaccurate data, and correct or remove it.\n",
    "2. Detect duplicate data, and remove the duplicates"
   ]
  },
  {
   "cell_type": "markdown",
   "metadata": {},
   "source": [
    "## Delete the Inaccurate Data\n",
    "We read the discussions about this dataset in the website we have taken this from, and seen that there is a row with wrong information. The index number of the row is said to be 10473. We show that row below, and then **delete the row**. "
   ]
  },
  {
   "cell_type": "code",
   "execution_count": 5,
   "metadata": {
    "collapsed": false,
    "scrolled": false
   },
   "outputs": [
    {
     "name": "stdout",
     "output_type": "stream",
     "text": [
      "['Life Made WI-Fi Touchscreen Photo Frame', '1.9', '19', '3.0M', '1,000+', 'Free', '0', 'Everyone', '', 'February 11, 2018', '1.0.19', '4.0 and up']\n"
     ]
    }
   ],
   "source": [
    "print(google_data[10473])"
   ]
  },
  {
   "cell_type": "code",
   "execution_count": 6,
   "metadata": {
    "collapsed": false
   },
   "outputs": [],
   "source": [
    "del (google_data[10473])"
   ]
  },
  {
   "cell_type": "code",
   "execution_count": 7,
   "metadata": {
    "collapsed": false,
    "scrolled": false
   },
   "outputs": [
    {
     "name": "stdout",
     "output_type": "stream",
     "text": [
      "['App', 'Category', 'Rating', 'Reviews', 'Size', 'Installs', 'Type', 'Price', 'Content Rating', 'Genres', 'Last Updated', 'Current Ver', 'Android Ver']\n",
      "\n",
      "\n",
      "['Photo Editor & Candy Camera & Grid & ScrapBook', 'ART_AND_DESIGN', '4.1', '159', '19M', '10,000+', 'Free', '0', 'Everyone', 'Art & Design', 'January 7, 2018', '1.0.0', '4.0.3 and up']\n",
      "\n",
      "\n",
      "Number of rows: 10841\n",
      "Number of columns: 13\n"
     ]
    }
   ],
   "source": [
    "explore_data(google_data,0,2,True)"
   ]
  },
  {
   "cell_type": "markdown",
   "metadata": {},
   "source": [
    "As we can see above, after the row deletion, the number of rows left in the google dataset is 10841 (the first row being the header). \n",
    "\n",
    "We didnt see anything in the discussion part of the apple dataset about any rows with wrong data."
   ]
  },
  {
   "cell_type": "markdown",
   "metadata": {},
   "source": [
    "## Delete the Duplicate Entries\n",
    "We have also recognized that there are duplicate entries. Below are two examples from Google dataset."
   ]
  },
  {
   "cell_type": "code",
   "execution_count": 8,
   "metadata": {
    "collapsed": false,
    "scrolled": false
   },
   "outputs": [
    {
     "name": "stdout",
     "output_type": "stream",
     "text": [
      "['Instagram', 'SOCIAL', '4.5', '66577313', 'Varies with device', '1,000,000,000+', 'Free', '0', 'Teen', 'Social', 'July 31, 2018', 'Varies with device', 'Varies with device']\n",
      "['Instagram', 'SOCIAL', '4.5', '66577446', 'Varies with device', '1,000,000,000+', 'Free', '0', 'Teen', 'Social', 'July 31, 2018', 'Varies with device', 'Varies with device']\n",
      "['Instagram', 'SOCIAL', '4.5', '66577313', 'Varies with device', '1,000,000,000+', 'Free', '0', 'Teen', 'Social', 'July 31, 2018', 'Varies with device', 'Varies with device']\n",
      "['Instagram', 'SOCIAL', '4.5', '66509917', 'Varies with device', '1,000,000,000+', 'Free', '0', 'Teen', 'Social', 'July 31, 2018', 'Varies with device', 'Varies with device']\n"
     ]
    }
   ],
   "source": [
    "for app in google_data:\n",
    "    name=app[0]\n",
    "    if name=='Instagram':\n",
    "        print(app)"
   ]
  },
  {
   "cell_type": "code",
   "execution_count": 9,
   "metadata": {
    "collapsed": false,
    "scrolled": true
   },
   "outputs": [
    {
     "name": "stdout",
     "output_type": "stream",
     "text": [
      "['Subway Surfers', 'GAME', '4.5', '27722264', '76M', '1,000,000,000+', 'Free', '0', 'Everyone 10+', 'Arcade', 'July 12, 2018', '1.90.0', '4.1 and up']\n",
      "['Subway Surfers', 'GAME', '4.5', '27723193', '76M', '1,000,000,000+', 'Free', '0', 'Everyone 10+', 'Arcade', 'July 12, 2018', '1.90.0', '4.1 and up']\n",
      "['Subway Surfers', 'GAME', '4.5', '27724094', '76M', '1,000,000,000+', 'Free', '0', 'Everyone 10+', 'Arcade', 'July 12, 2018', '1.90.0', '4.1 and up']\n",
      "['Subway Surfers', 'GAME', '4.5', '27725352', '76M', '1,000,000,000+', 'Free', '0', 'Everyone 10+', 'Arcade', 'July 12, 2018', '1.90.0', '4.1 and up']\n",
      "['Subway Surfers', 'GAME', '4.5', '27725352', '76M', '1,000,000,000+', 'Free', '0', 'Everyone 10+', 'Arcade', 'July 12, 2018', '1.90.0', '4.1 and up']\n",
      "['Subway Surfers', 'GAME', '4.5', '27711703', '76M', '1,000,000,000+', 'Free', '0', 'Everyone 10+', 'Arcade', 'July 12, 2018', '1.90.0', '4.1 and up']\n"
     ]
    }
   ],
   "source": [
    "for app in google_data:\n",
    "    name=app[0]\n",
    "    if name=='Subway Surfers':\n",
    "        print(app)"
   ]
  },
  {
   "cell_type": "markdown",
   "metadata": {},
   "source": [
    "We collect the duplicate enries and the unique entries in seperate lists below"
   ]
  },
  {
   "cell_type": "code",
   "execution_count": 10,
   "metadata": {
    "collapsed": false
   },
   "outputs": [
    {
     "name": "stdout",
     "output_type": "stream",
     "text": [
      "Number of duplicate apps:  1181\n",
      "\n",
      "\n",
      "Examples of duplicate apps:  ['Quick PDF Scanner + OCR FREE', 'Box', 'Google My Business', 'ZOOM Cloud Meetings', 'join.me - Simple Meetings', 'Box', 'Zenefits', 'Google Ads', 'Google My Business', 'Slack', 'FreshBooks Classic', 'Insightly CRM', 'QuickBooks Accounting: Invoicing & Expenses', 'HipChat - Chat Built for Teams', 'Xero Accounting Software']\n",
      "\n",
      "\n",
      "Number of unique apps:  9659\n"
     ]
    }
   ],
   "source": [
    "duplicate_apps =[]\n",
    "unique_apps=[]\n",
    "for app in google_data[1:]:\n",
    "    name=app[0]\n",
    "    if name in unique_apps:\n",
    "        duplicate_apps.append(name)\n",
    "    else:\n",
    "        unique_apps.append(name)\n",
    "print('Number of duplicate apps: ', len(duplicate_apps))\n",
    "print('\\n')\n",
    "print('Examples of duplicate apps: ', duplicate_apps[:15])\n",
    "print('\\n')\n",
    "print('Number of unique apps: ', len(unique_apps)) "
   ]
  },
  {
   "cell_type": "markdown",
   "metadata": {},
   "source": [
    "So we found that there are **9659 unique apps**. And there are totally 1881 duplicates of those unique apps. "
   ]
  },
  {
   "cell_type": "markdown",
   "metadata": {},
   "source": [
    "We will remove the duplicate rows. We will keep the most recent data for each app and remove the older ones. For doing this, we will check the **'Reviews'**. The highest review number would give us the most recent data and hence we will keep the rows with the highest number of reviews for each app. "
   ]
  },
  {
   "cell_type": "markdown",
   "metadata": {},
   "source": [
    "**Removing Duplicate Apps**\n",
    "\n",
    "Below we create a dictionary in which the names and max number of reviews of unique apps are paired. "
   ]
  },
  {
   "cell_type": "code",
   "execution_count": 11,
   "metadata": {
    "collapsed": false
   },
   "outputs": [
    {
     "name": "stdout",
     "output_type": "stream",
     "text": [
      "9659\n"
     ]
    }
   ],
   "source": [
    "reviews_max={} #name and max reviews\n",
    "for app in google_data[1:]:\n",
    "    name=app[0]\n",
    "    n_reviews=float(app[3])\n",
    "    if name in reviews_max and n_reviews>reviews_max[name]:\n",
    "        reviews_max[name]=n_reviews\n",
    "    elif name not in reviews_max:\n",
    "        reviews_max.update({name:n_reviews})\n",
    "print(len(reviews_max))\n",
    "\n"
   ]
  },
  {
   "cell_type": "markdown",
   "metadata": {},
   "source": [
    "Now we will delete the unwanted duplicates. For this we will actually crerate a new dataset (list of lists) named android_clean and it will only store the wanted rows.  "
   ]
  },
  {
   "cell_type": "code",
   "execution_count": 12,
   "metadata": {
    "collapsed": false,
    "scrolled": false
   },
   "outputs": [
    {
     "name": "stdout",
     "output_type": "stream",
     "text": [
      "['Photo Editor & Candy Camera & Grid & ScrapBook', 'ART_AND_DESIGN', '4.1', '159', '19M', '10,000+', 'Free', '0', 'Everyone', 'Art & Design', 'January 7, 2018', '1.0.0', '4.0.3 and up']\n",
      "\n",
      "\n",
      "['U Launcher Lite – FREE Live Cool Themes, Hide Apps', 'ART_AND_DESIGN', '4.7', '87510', '8.7M', '5,000,000+', 'Free', '0', 'Everyone', 'Art & Design', 'August 1, 2018', '1.2.4', '4.0.3 and up']\n",
      "\n",
      "\n",
      "Number of rows: 9659\n",
      "Number of columns: 13\n"
     ]
    }
   ],
   "source": [
    "android_clean=[]\n",
    "already_added=[]\n",
    "for app in google_data[1:]:\n",
    "    name=app[0]\n",
    "    n_reviews=float(app[3])\n",
    "    if n_reviews == reviews_max[name] and name not in already_added:\n",
    "        android_clean.append(app)\n",
    "        already_added.append(name)\n",
    "explore_data(android_clean,0,2,True)        \n"
   ]
  },
  {
   "cell_type": "markdown",
   "metadata": {},
   "source": [
    "# Removing the apps that are not for English speakers\n",
    "We decided to filter the apps according to their names. We will remove the apps which have at least 4 non_English characters. Although this is not a perfect filter, it should be fairly effective. \n",
    "\n",
    "The function below, named *lang_check* is defined for this."
   ]
  },
  {
   "cell_type": "code",
   "execution_count": 13,
   "metadata": {
    "collapsed": false
   },
   "outputs": [
    {
     "data": {
      "text/plain": [
       "True"
      ]
     },
     "execution_count": 13,
     "metadata": {},
     "output_type": "execute_result"
    }
   ],
   "source": [
    "def lang_check(string): \n",
    "    countt=0\n",
    "    for character in string:    #çağrı   爱奇艺PPS -《欢乐颂2》电视剧热播\n",
    "        if countt>3:\n",
    "            return False\n",
    "        elif ord(character) > 127:\n",
    "            countt+=1\n",
    "    if countt<=3:\n",
    "        return True\n",
    "lang_check('hello')\n"
   ]
  },
  {
   "cell_type": "markdown",
   "metadata": {},
   "source": [
    "Below we will filter out both data sets according to being either English or not with our filter function *lang_check*."
   ]
  },
  {
   "cell_type": "code",
   "execution_count": 14,
   "metadata": {
    "collapsed": false
   },
   "outputs": [
    {
     "name": "stdout",
     "output_type": "stream",
     "text": [
      "['Photo Editor & Candy Camera & Grid & ScrapBook', 'ART_AND_DESIGN', '4.1', '159', '19M', '10,000+', 'Free', '0', 'Everyone', 'Art & Design', 'January 7, 2018', '1.0.0', '4.0.3 and up']\n",
      "\n",
      "\n",
      "['U Launcher Lite – FREE Live Cool Themes, Hide Apps', 'ART_AND_DESIGN', '4.7', '87510', '8.7M', '5,000,000+', 'Free', '0', 'Everyone', 'Art & Design', 'August 1, 2018', '1.2.4', '4.0.3 and up']\n",
      "\n",
      "\n",
      "Number of rows: 9614\n",
      "Number of columns: 13\n",
      "\n",
      "\n",
      "['284882215', 'Facebook', '389879808', 'USD', '0.0', '2974676', '212', '3.5', '3.5', '95.0', '4+', 'Social Networking', '37', '1', '29', '1']\n",
      "\n",
      "\n",
      "['389801252', 'Instagram', '113954816', 'USD', '0.0', '2161558', '1289', '4.5', '4.0', '10.23', '12+', 'Photo & Video', '37', '0', '29', '1']\n",
      "\n",
      "\n",
      "Number of rows: 6183\n",
      "Number of columns: 16\n"
     ]
    }
   ],
   "source": [
    "android_checked=[]\n",
    "apple_checked=[]\n",
    "\n",
    "for app in android_clean:\n",
    "    if lang_check(app[0])==True:\n",
    "        android_checked.append(app)\n",
    "        \n",
    "for app in apple_data[1:]:\n",
    "    if lang_check(app[1])==True:\n",
    "        apple_checked.append(app)       \n",
    "\n",
    "\n",
    "explore_data(android_checked, 0,2,True)\n",
    "print('\\n')\n",
    "explore_data(apple_checked, 0,2,True)\n",
    "       "
   ]
  },
  {
   "cell_type": "markdown",
   "metadata": {},
   "source": [
    "At the end of removing the non_english apps, we have 9614 unique apps in google dataset and 6183 apps in apple dataset. "
   ]
  },
  {
   "cell_type": "markdown",
   "metadata": {},
   "source": [
    "# Remove the non-free apps\n",
    "Next we will remove the apps which are not free from our lists. "
   ]
  },
  {
   "cell_type": "code",
   "execution_count": 15,
   "metadata": {
    "collapsed": false
   },
   "outputs": [
    {
     "name": "stdout",
     "output_type": "stream",
     "text": [
      "['Photo Editor & Candy Camera & Grid & ScrapBook', 'ART_AND_DESIGN', '4.1', '159', '19M', '10,000+', 'Free', '0', 'Everyone', 'Art & Design', 'January 7, 2018', '1.0.0', '4.0.3 and up']\n",
      "\n",
      "\n",
      "['U Launcher Lite – FREE Live Cool Themes, Hide Apps', 'ART_AND_DESIGN', '4.7', '87510', '8.7M', '5,000,000+', 'Free', '0', 'Everyone', 'Art & Design', 'August 1, 2018', '1.2.4', '4.0.3 and up']\n",
      "\n",
      "\n",
      "Number of rows: 8864\n",
      "Number of columns: 13\n",
      "\n",
      "\n",
      "['284882215', 'Facebook', '389879808', 'USD', '0.0', '2974676', '212', '3.5', '3.5', '95.0', '4+', 'Social Networking', '37', '1', '29', '1']\n",
      "\n",
      "\n",
      "['389801252', 'Instagram', '113954816', 'USD', '0.0', '2161558', '1289', '4.5', '4.0', '10.23', '12+', 'Photo & Video', '37', '0', '29', '1']\n",
      "\n",
      "\n",
      "Number of rows: 3222\n",
      "Number of columns: 16\n"
     ]
    }
   ],
   "source": [
    "android=[]\n",
    "apple=[]\n",
    "\n",
    "for app in android_checked:\n",
    "    price =(app[7])\n",
    "    if price=='0' :  # type of 'price' is string in the dataset, and has a dollar sign ($) if not 0. \n",
    "       android.append(app)\n",
    "        \n",
    "for app in apple_checked:\n",
    "    price=float(app[4])\n",
    "    if price==0:\n",
    "        apple.append(app)\n",
    "\n",
    "        \n",
    "explore_data(android, 0,2,True)\n",
    "print('\\n')\n",
    "explore_data(apple, 0,2,True) \n",
    "\n",
    "\n",
    "    "
   ]
  },
  {
   "cell_type": "markdown",
   "metadata": {
    "collapsed": true
   },
   "source": [
    "So far, we have cleaned the data as we have: \n",
    "1. Removed inaccurate data\n",
    "2. Removed duplicate app entries\n",
    "3. Removed non-English apps\n",
    "4. Isolated the free apps\n",
    "\n",
    "And we are left with **8862 apps in Google Dataset** (android) and **3222 apps in Apple Dataset** (apple). \n",
    "\n",
    "Now, we will start analyzing the datasets: android and apple. \n",
    "\n",
    "Our aim is to determine the kinds of apps that are likely to attract more users because our revenue is highly influenced by the number of people using our apps.\n",
    "\n",
    "We want to find an app profile that fits both the App Store and Google Play. We aim to minimize risks and overhead and for this, we validate our apps through three steps as follows:\n",
    "1. We first build an Android version of the app, and add it to Google Play.\n",
    "2. If the app has a good response from users, we develop it further.\n",
    "3. If the app is profitable after six months, we build an iOS version of the app and add it to the App Store.\n",
    "\n",
    "# EXPLORING DATASETS - FREQUENCY TABLES\n",
    "\n",
    "We start with exploring the datasets for finding out the apps that are being used more.\n",
    "\n",
    "We will first draw frequency tables for number of ratings and reviews with respect to genres to find out the most common genres. \n",
    "\n",
    "\n",
    "\n"
   ]
  },
  {
   "cell_type": "code",
   "execution_count": 16,
   "metadata": {
    "collapsed": false
   },
   "outputs": [],
   "source": [
    "def freq_table(dataset, index):  # returns a dictionary\n",
    "    freq_dict={}\n",
    "    totall=0\n",
    "    for app in dataset:\n",
    "        totall+=1\n",
    "        rr= app[index]\n",
    "        if rr in freq_dict:\n",
    "            freq_dict[rr]+=1\n",
    "        else:\n",
    "            freq_dict[rr]=1\n",
    "            \n",
    "    percentages={}\n",
    "    for key in freq_dict:\n",
    "        perc=(freq_dict[key]/totall)*100\n",
    "        percentages[key]=perc\n",
    "            \n",
    "    return percentages"
   ]
  },
  {
   "cell_type": "code",
   "execution_count": 17,
   "metadata": {
    "collapsed": false,
    "scrolled": false
   },
   "outputs": [
    {
     "data": {
      "text/plain": [
       "{'Book': 0.4345127250155183,\n",
       " 'Business': 0.5276225946617008,\n",
       " 'Catalogs': 0.12414649286157665,\n",
       " 'Education': 3.662321539416512,\n",
       " 'Entertainment': 7.883302296710118,\n",
       " 'Finance': 1.1173184357541899,\n",
       " 'Food & Drink': 0.8069522036002483,\n",
       " 'Games': 58.16263190564867,\n",
       " 'Health & Fitness': 2.0173805090006205,\n",
       " 'Lifestyle': 1.5828677839851024,\n",
       " 'Medical': 0.186219739292365,\n",
       " 'Music': 2.0484171322160147,\n",
       " 'Navigation': 0.186219739292365,\n",
       " 'News': 1.3345747982619491,\n",
       " 'Photo & Video': 4.9658597144630665,\n",
       " 'Productivity': 1.7380509000620732,\n",
       " 'Reference': 0.5586592178770949,\n",
       " 'Shopping': 2.60707635009311,\n",
       " 'Social Networking': 3.2898820608317814,\n",
       " 'Sports': 2.1415270018621975,\n",
       " 'Travel': 1.2414649286157666,\n",
       " 'Utilities': 2.5139664804469275,\n",
       " 'Weather': 0.8690254500310366}"
      ]
     },
     "execution_count": 17,
     "metadata": {},
     "output_type": "execute_result"
    }
   ],
   "source": [
    "freq_table(apple,11)"
   ]
  },
  {
   "cell_type": "code",
   "execution_count": 18,
   "metadata": {
    "collapsed": true
   },
   "outputs": [],
   "source": [
    "def display_table (dataset, index):\n",
    "        table=freq_table(dataset, index)\n",
    "        table_display=[]\n",
    "        for key in table:\n",
    "            key_val_as_tuple= (table[key],key)\n",
    "            table_display.append(key_val_as_tuple)\n",
    "            \n",
    "        table_sorted = sorted(table_display, reverse=True)\n",
    "        for entry in table_sorted:\n",
    "            print(entry[1],':',entry[0])\n",
    "            \n"
   ]
  },
  {
   "cell_type": "code",
   "execution_count": 19,
   "metadata": {
    "collapsed": false,
    "scrolled": true
   },
   "outputs": [
    {
     "name": "stdout",
     "output_type": "stream",
     "text": [
      "Games : 58.16263190564867\n",
      "Entertainment : 7.883302296710118\n",
      "Photo & Video : 4.9658597144630665\n",
      "Education : 3.662321539416512\n",
      "Social Networking : 3.2898820608317814\n",
      "Shopping : 2.60707635009311\n",
      "Utilities : 2.5139664804469275\n",
      "Sports : 2.1415270018621975\n",
      "Music : 2.0484171322160147\n",
      "Health & Fitness : 2.0173805090006205\n",
      "Productivity : 1.7380509000620732\n",
      "Lifestyle : 1.5828677839851024\n",
      "News : 1.3345747982619491\n",
      "Travel : 1.2414649286157666\n",
      "Finance : 1.1173184357541899\n",
      "Weather : 0.8690254500310366\n",
      "Food & Drink : 0.8069522036002483\n",
      "Reference : 0.5586592178770949\n",
      "Business : 0.5276225946617008\n",
      "Book : 0.4345127250155183\n",
      "Navigation : 0.186219739292365\n",
      "Medical : 0.186219739292365\n",
      "Catalogs : 0.12414649286157665\n"
     ]
    }
   ],
   "source": [
    "display_table(apple, 11)  # prime_genre"
   ]
  },
  {
   "cell_type": "markdown",
   "metadata": {},
   "source": [
    "For the AppleStore apps, the most common genre is **Games** , which is well ahead of all the other genres. The runner-up is **Entertainment**. The list mostly continues with other entertainment and social networking kinds of apps. We see that apps for practical purposes such as education, shopping, and utilities are not as common as entertainment type apps. "
   ]
  },
  {
   "cell_type": "code",
   "execution_count": 20,
   "metadata": {
    "collapsed": false,
    "scrolled": true
   },
   "outputs": [
    {
     "name": "stdout",
     "output_type": "stream",
     "text": [
      "FAMILY : 18.907942238267147\n",
      "GAME : 9.724729241877256\n",
      "TOOLS : 8.461191335740072\n",
      "BUSINESS : 4.591606498194946\n",
      "LIFESTYLE : 3.9034296028880866\n",
      "PRODUCTIVITY : 3.892148014440433\n",
      "FINANCE : 3.7003610108303246\n",
      "MEDICAL : 3.531137184115524\n",
      "SPORTS : 3.395758122743682\n",
      "PERSONALIZATION : 3.3167870036101084\n",
      "COMMUNICATION : 3.2378158844765346\n",
      "HEALTH_AND_FITNESS : 3.0798736462093865\n",
      "PHOTOGRAPHY : 2.944494584837545\n",
      "NEWS_AND_MAGAZINES : 2.7978339350180503\n",
      "SOCIAL : 2.6624548736462095\n",
      "TRAVEL_AND_LOCAL : 2.33528880866426\n",
      "SHOPPING : 2.2450361010830324\n",
      "BOOKS_AND_REFERENCE : 2.1435018050541514\n",
      "DATING : 1.861462093862816\n",
      "VIDEO_PLAYERS : 1.7937725631768955\n",
      "MAPS_AND_NAVIGATION : 1.3989169675090252\n",
      "FOOD_AND_DRINK : 1.2409747292418771\n",
      "EDUCATION : 1.1620036101083033\n",
      "ENTERTAINMENT : 0.9589350180505415\n",
      "LIBRARIES_AND_DEMO : 0.9363718411552346\n",
      "AUTO_AND_VEHICLES : 0.9250902527075812\n",
      "HOUSE_AND_HOME : 0.8235559566787004\n",
      "WEATHER : 0.8009927797833934\n",
      "EVENTS : 0.7107400722021661\n",
      "PARENTING : 0.6543321299638989\n",
      "ART_AND_DESIGN : 0.6430505415162455\n",
      "COMICS : 0.6204873646209386\n",
      "BEAUTY : 0.5979241877256317\n"
     ]
    }
   ],
   "source": [
    "display_table(android,1 )"
   ]
  },
  {
   "cell_type": "code",
   "execution_count": 21,
   "metadata": {
    "collapsed": false
   },
   "outputs": [
    {
     "name": "stdout",
     "output_type": "stream",
     "text": [
      "Tools : 8.449909747292418\n",
      "Entertainment : 6.069494584837545\n",
      "Education : 5.347472924187725\n",
      "Business : 4.591606498194946\n",
      "Productivity : 3.892148014440433\n",
      "Lifestyle : 3.892148014440433\n",
      "Finance : 3.7003610108303246\n",
      "Medical : 3.531137184115524\n",
      "Sports : 3.463447653429603\n",
      "Personalization : 3.3167870036101084\n",
      "Communication : 3.2378158844765346\n",
      "Action : 3.1024368231046933\n",
      "Health & Fitness : 3.0798736462093865\n",
      "Photography : 2.944494584837545\n",
      "News & Magazines : 2.7978339350180503\n",
      "Social : 2.6624548736462095\n",
      "Travel & Local : 2.3240072202166067\n",
      "Shopping : 2.2450361010830324\n",
      "Books & Reference : 2.1435018050541514\n",
      "Simulation : 2.0419675090252705\n",
      "Dating : 1.861462093862816\n",
      "Arcade : 1.8501805054151623\n",
      "Video Players & Editors : 1.7712093862815883\n",
      "Casual : 1.7599277978339352\n",
      "Maps & Navigation : 1.3989169675090252\n",
      "Food & Drink : 1.2409747292418771\n",
      "Puzzle : 1.128158844765343\n",
      "Racing : 0.9927797833935018\n",
      "Role Playing : 0.9363718411552346\n",
      "Libraries & Demo : 0.9363718411552346\n",
      "Auto & Vehicles : 0.9250902527075812\n",
      "Strategy : 0.9138086642599278\n",
      "House & Home : 0.8235559566787004\n",
      "Weather : 0.8009927797833934\n",
      "Events : 0.7107400722021661\n",
      "Adventure : 0.6768953068592057\n",
      "Comics : 0.6092057761732852\n",
      "Beauty : 0.5979241877256317\n",
      "Art & Design : 0.5979241877256317\n",
      "Parenting : 0.4963898916967509\n",
      "Card : 0.45126353790613716\n",
      "Casino : 0.42870036101083037\n",
      "Trivia : 0.41741877256317694\n",
      "Educational;Education : 0.39485559566787\n",
      "Board : 0.3835740072202166\n",
      "Educational : 0.3722924187725632\n",
      "Education;Education : 0.33844765342960287\n",
      "Word : 0.2594765342960289\n",
      "Casual;Pretend Play : 0.236913357400722\n",
      "Music : 0.2030685920577617\n",
      "Racing;Action & Adventure : 0.16922382671480143\n",
      "Puzzle;Brain Games : 0.16922382671480143\n",
      "Entertainment;Music & Video : 0.16922382671480143\n",
      "Casual;Brain Games : 0.13537906137184114\n",
      "Casual;Action & Adventure : 0.13537906137184114\n",
      "Arcade;Action & Adventure : 0.12409747292418773\n",
      "Action;Action & Adventure : 0.10153429602888085\n",
      "Educational;Pretend Play : 0.09025270758122744\n",
      "Simulation;Action & Adventure : 0.078971119133574\n",
      "Parenting;Education : 0.078971119133574\n",
      "Entertainment;Brain Games : 0.078971119133574\n",
      "Board;Brain Games : 0.078971119133574\n",
      "Parenting;Music & Video : 0.06768953068592057\n",
      "Educational;Brain Games : 0.06768953068592057\n",
      "Casual;Creativity : 0.06768953068592057\n",
      "Art & Design;Creativity : 0.06768953068592057\n",
      "Education;Pretend Play : 0.056407942238267145\n",
      "Role Playing;Pretend Play : 0.04512635379061372\n",
      "Education;Creativity : 0.04512635379061372\n",
      "Role Playing;Action & Adventure : 0.033844765342960284\n",
      "Puzzle;Action & Adventure : 0.033844765342960284\n",
      "Entertainment;Creativity : 0.033844765342960284\n",
      "Entertainment;Action & Adventure : 0.033844765342960284\n",
      "Educational;Creativity : 0.033844765342960284\n",
      "Educational;Action & Adventure : 0.033844765342960284\n",
      "Education;Music & Video : 0.033844765342960284\n",
      "Education;Brain Games : 0.033844765342960284\n",
      "Education;Action & Adventure : 0.033844765342960284\n",
      "Adventure;Action & Adventure : 0.033844765342960284\n",
      "Video Players & Editors;Music & Video : 0.02256317689530686\n",
      "Sports;Action & Adventure : 0.02256317689530686\n",
      "Simulation;Pretend Play : 0.02256317689530686\n",
      "Puzzle;Creativity : 0.02256317689530686\n",
      "Music;Music & Video : 0.02256317689530686\n",
      "Entertainment;Pretend Play : 0.02256317689530686\n",
      "Casual;Education : 0.02256317689530686\n",
      "Board;Action & Adventure : 0.02256317689530686\n",
      "Video Players & Editors;Creativity : 0.01128158844765343\n",
      "Trivia;Education : 0.01128158844765343\n",
      "Travel & Local;Action & Adventure : 0.01128158844765343\n",
      "Tools;Education : 0.01128158844765343\n",
      "Strategy;Education : 0.01128158844765343\n",
      "Strategy;Creativity : 0.01128158844765343\n",
      "Strategy;Action & Adventure : 0.01128158844765343\n",
      "Simulation;Education : 0.01128158844765343\n",
      "Role Playing;Brain Games : 0.01128158844765343\n",
      "Racing;Pretend Play : 0.01128158844765343\n",
      "Puzzle;Education : 0.01128158844765343\n",
      "Parenting;Brain Games : 0.01128158844765343\n",
      "Music & Audio;Music & Video : 0.01128158844765343\n",
      "Lifestyle;Pretend Play : 0.01128158844765343\n",
      "Lifestyle;Education : 0.01128158844765343\n",
      "Health & Fitness;Education : 0.01128158844765343\n",
      "Health & Fitness;Action & Adventure : 0.01128158844765343\n",
      "Entertainment;Education : 0.01128158844765343\n",
      "Communication;Creativity : 0.01128158844765343\n",
      "Comics;Creativity : 0.01128158844765343\n",
      "Casual;Music & Video : 0.01128158844765343\n",
      "Card;Action & Adventure : 0.01128158844765343\n",
      "Books & Reference;Education : 0.01128158844765343\n",
      "Art & Design;Pretend Play : 0.01128158844765343\n",
      "Art & Design;Action & Adventure : 0.01128158844765343\n",
      "Arcade;Pretend Play : 0.01128158844765343\n",
      "Adventure;Education : 0.01128158844765343\n"
     ]
    }
   ],
   "source": [
    "display_table(android,9)"
   ]
  },
  {
   "cell_type": "markdown",
   "metadata": {},
   "source": [
    "GooglePlay apps show a more balanced distribution of genres. The frequency of the apps for practical purposes such as Tools, Business, Lifestyle etc are almost as high as the frequencies of apps for fun. The most common genre is Tools and the second one is Entertainment. Based on categories, the most common category is Family and the runner up is Games; a big contrast to the picture in AppleStore. "
   ]
  },
  {
   "cell_type": "markdown",
   "metadata": {},
   "source": [
    "# Most Popular Apps by Genre on the App Store\n",
    "We still don't know the user numbers and popularity of these apps. We will start with the AppleStore dataset and check the **rating_count_tot** to reflect the total number of users. "
   ]
  },
  {
   "cell_type": "code",
   "execution_count": 22,
   "metadata": {
    "collapsed": false,
    "scrolled": false
   },
   "outputs": [],
   "source": [
    "unique_genres=freq_table(apple, 11)  # prime_genre"
   ]
  },
  {
   "cell_type": "code",
   "execution_count": 23,
   "metadata": {
    "collapsed": false
   },
   "outputs": [
    {
     "name": "stdout",
     "output_type": "stream",
     "text": [
      "Health & Fitness :  23298.015384615384\n",
      "News :  21248.023255813954\n",
      "Productivity :  21028.410714285714\n",
      "Finance :  31467.944444444445\n",
      "Medical :  612.0\n",
      "Games :  22788.6696905016\n",
      "Utilities :  18684.456790123455\n",
      "Lifestyle :  16485.764705882353\n",
      "Photo & Video :  28441.54375\n",
      "Weather :  52279.892857142855\n",
      "Navigation :  86090.33333333333\n",
      "Food & Drink :  33333.92307692308\n",
      "Reference :  74942.11111111111\n",
      "Catalogs :  4004.0\n",
      "Sports :  23008.898550724636\n",
      "Business :  7491.117647058823\n",
      "Education :  7003.983050847458\n",
      "Entertainment :  14029.830708661417\n",
      "Music :  57326.530303030304\n",
      "Social Networking :  71548.34905660378\n",
      "Travel :  28243.8\n",
      "Shopping :  26919.690476190477\n",
      "Book :  39758.5\n"
     ]
    }
   ],
   "source": [
    "for genre in unique_genres:\n",
    "    total=0\n",
    "    len_genre=0\n",
    "    for app in apple:\n",
    "        genre_app=app[11]\n",
    "        if genre_app ==genre:\n",
    "            user_ratings=float(app[5]) # rating_count_total index: 5\n",
    "            total+=user_ratings\n",
    "            len_genre+=1\n",
    "    avg_user_rating=total/len_genre\n",
    "    print(genre,': ',avg_user_rating)\n",
    "        "
   ]
  },
  {
   "cell_type": "markdown",
   "metadata": {},
   "source": [
    "Observing the average number of ratings reveals that not only the games are popular among the applestore users. We see that Navigation apps are rated the highest, and it is followed by Social networking, Music, and Weather. Books are also rated higher than games. Let's examine these genres in more detail. Navigation seems to be popular because of two big apps: Waze and Google Maps. "
   ]
  },
  {
   "cell_type": "code",
   "execution_count": 24,
   "metadata": {
    "collapsed": false,
    "scrolled": true
   },
   "outputs": [
    {
     "name": "stdout",
     "output_type": "stream",
     "text": [
      "Waze - GPS Navigation, Maps & Real-time Traffic :  345046\n",
      "Google Maps - Navigation & Transit :  154911\n",
      "Geocaching® :  12811\n",
      "CoPilot GPS – Car Navigation & Offline Maps :  3582\n",
      "ImmobilienScout24: Real Estate Search in Germany :  187\n",
      "Railway Route Search :  5\n"
     ]
    }
   ],
   "source": [
    "for app in apple:\n",
    "    if app[11]=='Navigation':\n",
    "        print(app[1],': ', app[5])"
   ]
  },
  {
   "cell_type": "markdown",
   "metadata": {},
   "source": [
    "Lets look at the social networking apps. "
   ]
  },
  {
   "cell_type": "code",
   "execution_count": 25,
   "metadata": {
    "collapsed": false,
    "scrolled": true
   },
   "outputs": [
    {
     "name": "stdout",
     "output_type": "stream",
     "text": [
      "Facebook :  2974676\n",
      "Pinterest :  1061624\n",
      "Skype for iPhone :  373519\n",
      "Messenger :  351466\n",
      "Tumblr :  334293\n",
      "WhatsApp Messenger :  287589\n",
      "Kik :  260965\n",
      "ooVoo – Free Video Call, Text and Voice :  177501\n",
      "TextNow - Unlimited Text + Calls :  164963\n",
      "Viber Messenger – Text & Call :  164249\n",
      "Followers - Social Analytics For Instagram :  112778\n",
      "MeetMe - Chat and Meet New People :  97072\n",
      "We Heart It - Fashion, wallpapers, quotes, tattoos :  90414\n",
      "InsTrack for Instagram - Analytics Plus More :  85535\n",
      "Tango - Free Video Call, Voice and Chat :  75412\n",
      "LinkedIn :  71856\n",
      "Match™ - #1 Dating App. :  60659\n",
      "Skype for iPad :  60163\n",
      "POF - Best Dating App for Conversations :  52642\n",
      "Timehop :  49510\n",
      "Find My Family, Friends & iPhone - Life360 Locator :  43877\n",
      "Whisper - Share, Express, Meet :  39819\n",
      "Hangouts :  36404\n",
      "LINE PLAY - Your Avatar World :  34677\n",
      "WeChat :  34584\n",
      "Badoo - Meet New People, Chat, Socialize. :  34428\n",
      "Followers + for Instagram - Follower Analytics :  28633\n",
      "GroupMe :  28260\n",
      "Marco Polo Video Walkie Talkie :  27662\n",
      "Miitomo :  23965\n",
      "SimSimi :  23530\n",
      "Grindr - Gay and same sex guys chat, meet and date :  23201\n",
      "Wishbone - Compare Anything :  20649\n",
      "imo video calls and chat :  18841\n",
      "After School - Funny Anonymous School News :  18482\n",
      "Quick Reposter - Repost, Regram and Reshare Photos :  17694\n",
      "Weibo HD :  16772\n",
      "Repost for Instagram :  15185\n",
      "Live.me – Live Video Chat & Make Friends Nearby :  14724\n",
      "Nextdoor :  14402\n",
      "Followers Analytics for Instagram - InstaReport :  13914\n",
      "YouNow: Live Stream Video Chat :  12079\n",
      "FollowMeter for Instagram - Followers Tracking :  11976\n",
      "LINE :  11437\n",
      "eHarmony™ Dating App - Meet Singles :  11124\n",
      "Discord - Chat for Gamers :  9152\n",
      "QQ :  9109\n",
      "Telegram Messenger :  7573\n",
      "Weibo :  7265\n",
      "Periscope - Live Video Streaming Around the World :  6062\n",
      "Chat for Whatsapp - iPad Version :  5060\n",
      "QQ HD :  5058\n",
      "Followers Analysis Tool For Instagram App Free :  4253\n",
      "live.ly - live video streaming :  4145\n",
      "Houseparty - Group Video Chat :  3991\n",
      "SOMA Messenger :  3232\n",
      "Monkey :  3060\n",
      "Down To Lunch :  2535\n",
      "Flinch - Video Chat Staring Contest :  2134\n",
      "Highrise - Your Avatar Community :  2011\n",
      "LOVOO - Dating Chat :  1985\n",
      "PlayStation®Messages :  1918\n",
      "BOO! - Video chat camera with filters & stickers :  1805\n",
      "Qzone :  1649\n",
      "Chatous - Chat with new people :  1609\n",
      "Kiwi - Q&A :  1538\n",
      "GhostCodes - a discovery app for Snapchat :  1313\n",
      "Jodel :  1193\n",
      "FireChat :  1037\n",
      "Google Duo - simple video calling :  1033\n",
      "Fiesta by Tango - Chat & Meet New People :  885\n",
      "Google Allo — smart messaging :  862\n",
      "Peach — share vividly :  727\n",
      "Hey! VINA - Where Women Meet New Friends :  719\n",
      "Battlefield™ Companion :  689\n",
      "All Devices for WhatsApp - Messenger for iPad :  682\n",
      "Chat for Pokemon Go - GoChat :  500\n",
      "IAmNaughty – Dating App to Meet New People Online :  463\n",
      "Qzone HD :  458\n",
      "Zenly - Locate your friends in realtime :  427\n",
      "League of Legends Friends :  420\n",
      "豆瓣 :  407\n",
      "Candid - Speak Your Mind Freely :  398\n",
      "知乎 :  397\n",
      "Selfeo :  366\n",
      "Fake-A-Location Free ™ :  354\n",
      "Popcorn Buzz - Free Group Calls :  281\n",
      "Fam — Group video calling for iMessage :  279\n",
      "QQ International :  274\n",
      "Ameba :  269\n",
      "SoundCloud Pulse: for creators :  240\n",
      "Tantan :  235\n",
      "Cougar Dating & Life Style App for Mature Women :  213\n",
      "Rawr Messenger - Dab your chat :  180\n",
      "WhenToPost: Best Time to Post Photos for Instagram :  158\n",
      "Inke—Broadcast an amazing life :  147\n",
      "Mustknow - anonymous video Q&A :  53\n",
      "CTFxCmoji :  39\n",
      "Lobi :  36\n",
      "Chain: Collaborate On MyVideo Story/Group Video :  35\n",
      "botman - Real time video chat :  7\n",
      "BestieBox :  0\n",
      "MATCH ON LINE chat :  0\n",
      "niconico ch :  0\n",
      "LINE BLOG :  0\n",
      "bit-tube - Live Stream Video Chat :  0\n"
     ]
    }
   ],
   "source": [
    "for app in apple:\n",
    "    if app[11]=='Social Networking':\n",
    "        print(app[1],': ', app[5])"
   ]
  },
  {
   "cell_type": "markdown",
   "metadata": {},
   "source": [
    "Social networks have the high user ratings because of the very few number of highly popular social networks such as Facebook, Pinterest, Whatsapp. So the high number of avg rating is misleading for our purpose. \n",
    "\n",
    "Lets check the Reference:\n"
   ]
  },
  {
   "cell_type": "code",
   "execution_count": 26,
   "metadata": {
    "collapsed": false,
    "scrolled": true
   },
   "outputs": [
    {
     "name": "stdout",
     "output_type": "stream",
     "text": [
      "Bible :  985920\n",
      "Dictionary.com Dictionary & Thesaurus :  200047\n",
      "Dictionary.com Dictionary & Thesaurus for iPad :  54175\n",
      "Google Translate :  26786\n",
      "Muslim Pro: Ramadan 2017 Prayer Times, Azan, Quran :  18418\n",
      "New Furniture Mods - Pocket Wiki & Game Tools for Minecraft PC Edition :  17588\n",
      "Merriam-Webster Dictionary :  16849\n",
      "Night Sky :  12122\n",
      "City Maps for Minecraft PE - The Best Maps for Minecraft Pocket Edition (MCPE) :  8535\n",
      "LUCKY BLOCK MOD ™ for Minecraft PC Edition - The Best Pocket Wiki & Mods Installer Tools :  4693\n",
      "GUNS MODS for Minecraft PC Edition - Mods Tools :  1497\n",
      "Guides for Pokémon GO - Pokemon GO News and Cheats :  826\n",
      "WWDC :  762\n",
      "Horror Maps for Minecraft PE - Download The Scariest Maps for Minecraft Pocket Edition (MCPE) Free :  718\n",
      "VPN Express :  14\n",
      "Real Bike Traffic Rider Virtual Reality Glasses :  8\n",
      "教えて!goo :  0\n",
      "Jishokun-Japanese English Dictionary & Translator :  0\n"
     ]
    }
   ],
   "source": [
    "for app in apple:\n",
    "    if app[11]=='Reference':\n",
    "        print(app[1],': ', app[5])"
   ]
  },
  {
   "cell_type": "markdown",
   "metadata": {},
   "source": [
    "Reference genre seems promising because these apps are popular. There are two dominant apps; Bible and Dictionary.com, and it is possible to create a new app which would be about books and references and not be an alternative to bible or dictionary. So there seems to be a potential in choosing a popular book and creating an app around it. AppleStore users are more interested in apps for fun and hence the book could be chosen accordingly.  "
   ]
  },
  {
   "cell_type": "markdown",
   "metadata": {},
   "source": [
    "# Most popular Apps on GooglePlay\n",
    "Now lets look at the GooglePlay dataset and come up with an app profile recommendation for the GooglePlay store. We should keep in mind that our recomemndation should work in both of the markets. \n"
   ]
  },
  {
   "cell_type": "code",
   "execution_count": 29,
   "metadata": {
    "collapsed": false
   },
   "outputs": [
    {
     "name": "stdout",
     "output_type": "stream",
     "text": [
      "ENTERTAINMENT :  11640705.88235294\n",
      "HOUSE_AND_HOME :  1331540.5616438356\n",
      "FAMILY :  3695641.8198090694\n",
      "FINANCE :  1387692.475609756\n",
      "EVENTS :  253542.22222222222\n",
      "ART_AND_DESIGN :  1986335.0877192982\n",
      "HEALTH_AND_FITNESS :  4188821.9853479853\n",
      "TRAVEL_AND_LOCAL :  13984077.710144928\n",
      "BEAUTY :  513151.88679245283\n",
      "WEATHER :  5074486.197183099\n",
      "TOOLS :  10801391.298666667\n",
      "SPORTS :  3638640.1428571427\n",
      "EDUCATION :  1833495.145631068\n",
      "BUSINESS :  1712290.1474201474\n",
      "SHOPPING :  7036877.311557789\n",
      "LIFESTYLE :  1437816.2687861272\n",
      "FOOD_AND_DRINK :  1924897.7363636363\n",
      "PERSONALIZATION :  5201482.6122448975\n",
      "PHOTOGRAPHY :  17840110.40229885\n",
      "GAME :  15588015.603248259\n",
      "VIDEO_PLAYERS :  24727872.452830188\n",
      "BOOKS_AND_REFERENCE :  8767811.894736841\n",
      "MAPS_AND_NAVIGATION :  4056941.7741935486\n",
      "MEDICAL :  120550.61980830671\n",
      "NEWS_AND_MAGAZINES :  9549178.467741935\n",
      "SOCIAL :  23253652.127118643\n",
      "COMICS :  817657.2727272727\n",
      "PARENTING :  542603.6206896552\n",
      "LIBRARIES_AND_DEMO :  638503.734939759\n",
      "PRODUCTIVITY :  16787331.344927534\n",
      "DATING :  854028.8303030303\n",
      "COMMUNICATION :  38456119.167247385\n",
      "AUTO_AND_VEHICLES :  647317.8170731707\n"
     ]
    }
   ],
   "source": [
    "unique_cat=freq_table(android,1)\n",
    "\n",
    "for category in unique_cat:\n",
    "    total=0\n",
    "    len_category=0\n",
    "    for app in android:\n",
    "        category_app=app[1]\n",
    "        if category_app==category:\n",
    "            installs=app[5]  # Installs index: 5\n",
    "            installs= installs.replace('+','')\n",
    "            installs=float(installs.replace(',',''))\n",
    "            total+=installs\n",
    "            len_category+=1\n",
    "    avg_installs=total/len_category\n",
    "    print(category,': ', avg_installs)"
   ]
  },
  {
   "cell_type": "markdown",
   "metadata": {},
   "source": [
    "The highest number of installations are for Communication apps: 38M. Lets check it out. Below we see that this genre is dominated by big message apps such as Messenger and Whatsapp. "
   ]
  },
  {
   "cell_type": "code",
   "execution_count": 28,
   "metadata": {
    "collapsed": false
   },
   "outputs": [
    {
     "name": "stdout",
     "output_type": "stream",
     "text": [
      "WhatsApp Messenger :  1,000,000,000+\n",
      "Messenger for SMS :  10,000,000+\n",
      "My Tele2 :  5,000,000+\n",
      "imo beta free calls and text :  100,000,000+\n",
      "Contacts :  50,000,000+\n",
      "Call Free – Free Call :  5,000,000+\n",
      "Web Browser & Explorer :  5,000,000+\n",
      "Browser 4G :  10,000,000+\n",
      "MegaFon Dashboard :  10,000,000+\n",
      "ZenUI Dialer & Contacts :  10,000,000+\n",
      "Cricket Visual Voicemail :  10,000,000+\n",
      "TracFone My Account :  1,000,000+\n",
      "Xperia Link™ :  10,000,000+\n",
      "TouchPal Keyboard - Fun Emoji & Android Keyboard :  10,000,000+\n",
      "Skype Lite - Free Video Call & Chat :  5,000,000+\n",
      "My magenta :  1,000,000+\n",
      "Android Messages :  100,000,000+\n",
      "Google Duo - High Quality Video Calls :  500,000,000+\n",
      "Seznam.cz :  1,000,000+\n",
      "Antillean Gold Telegram (original version) :  100,000+\n",
      "AT&T Visual Voicemail :  10,000,000+\n",
      "GMX Mail :  10,000,000+\n",
      "Omlet Chat :  10,000,000+\n",
      "My Vodacom SA :  5,000,000+\n",
      "Microsoft Edge :  5,000,000+\n",
      "Messenger – Text and Video Chat for Free :  1,000,000,000+\n",
      "imo free video calls and chat :  500,000,000+\n",
      "Calls & Text by Mo+ :  5,000,000+\n",
      "free video calls and chat :  50,000,000+\n",
      "Skype - free IM & video calls :  1,000,000,000+\n",
      "Who :  100,000,000+\n",
      "GO SMS Pro - Messenger, Free Themes, Emoji :  100,000,000+\n",
      "Messaging+ SMS, MMS Free :  1,000,000+\n",
      "chomp SMS :  10,000,000+\n",
      "Glide - Video Chat Messenger :  10,000,000+\n",
      "Text SMS :  10,000,000+\n",
      "Talkray - Free Calls & Texts :  10,000,000+\n",
      "LINE: Free Calls & Messages :  500,000,000+\n",
      "GroupMe :  10,000,000+\n",
      "mysms SMS Text Messaging Sync :  1,000,000+\n",
      "2ndLine - Second Phone Number :  1,000,000+\n",
      "Google Chrome: Fast & Secure :  1,000,000,000+\n",
      "Firefox Browser fast & private :  100,000,000+\n",
      "Ninesky Browser :  1,000,000+\n",
      "Dolphin Browser - Fast, Private & Adblock🐬 :  50,000,000+\n",
      "UC Browser - Fast Download Private & Secure :  500,000,000+\n",
      "Ghostery Privacy Browser :  1,000,000+\n",
      "InBrowser - Incognito Browsing :  1,000,000+\n",
      "Lightning Web Browser :  500,000+\n",
      "Web Browser :  500,000+\n",
      "Contacts+ :  10,000,000+\n",
      "ExDialer - Dialer & Contacts :  10,000,000+\n",
      "PHONE for Google Voice & GTalk :  1,000,000+\n",
      "Safest Call Blocker :  1,000,000+\n",
      "Full Screen Caller ID :  5,000,000+\n",
      "Hiya - Caller ID & Block :  10,000,000+\n",
      "Mr. Number-Block calls & spam :  10,000,000+\n",
      "Should I Answer? :  1,000,000+\n",
      "RocketDial Dialer & Contacts :  1,000,000+\n",
      "CIA - Caller ID & Call Blocker :  5,000,000+\n",
      "Calls Blacklist - Call Blocker :  10,000,000+\n",
      "Call Control - Call Blocker :  5,000,000+\n",
      "True Contact - Real Caller ID :  1,000,000+\n",
      "Video Caller Id :  1,000,000+\n",
      "Sync.ME – Caller ID & Block :  5,000,000+\n",
      "Burner - Free Phone Number :  1,000,000+\n",
      "Caller ID + :  1,000,000+\n",
      "Gmail :  1,000,000,000+\n",
      "K-9 Mail :  5,000,000+\n",
      "myMail – Email for Hotmail, Gmail and Outlook Mail :  10,000,000+\n",
      "Email TypeApp - Mail App :  1,000,000+\n",
      "All Email Providers :  1,000,000+\n",
      "Newton Mail - Email App for Gmail, Outlook, IMAP :  1,000,000+\n",
      "GO Notifier :  10,000,000+\n",
      "Mail.Ru - Email App :  50,000,000+\n",
      "Mail1Click - Secure Mail :  10,000+\n",
      "Daum Mail - Next Mail :  5,000,000+\n",
      "mail.com mail :  1,000,000+\n",
      "SolMail - All-in-One email app :  500,000+\n",
      "Hangouts :  1,000,000,000+\n",
      "Vonage Mobile® Call Video Text :  1,000,000+\n",
      "JusTalk - Free Video Calls and Fun Video Chat :  5,000,000+\n",
      "Azar :  50,000,000+\n",
      "LokLok: Draw on a Lock Screen :  500,000+\n",
      "Discord - Chat for Gamers :  10,000,000+\n",
      "Messenger Lite: Free Calls & Messages :  100,000,000+\n",
      "AntennaPict β :  1,000,000+\n",
      "Talkatone: Free Texts, Calls & Phone Number :  10,000,000+\n",
      "Kik :  100,000,000+\n",
      "K-@ Mail - Email App :  100,000+\n",
      "KakaoTalk: Free Calls & Text :  100,000,000+\n",
      "K-9 Material (unofficial) :  5,000+\n",
      "M star Dialer :  100,000+\n",
      "Free WiFi Connect :  10,000,000+\n",
      "m:go BiH :  10,000+\n",
      "N-Com Wizard :  50,000+\n",
      "Opera Mini - fast web browser :  100,000,000+\n",
      "Opera Browser: Fast and Secure :  100,000,000+\n",
      "Opera Mini browser beta :  10,000,000+\n",
      "Psiphon Pro - The Internet Freedom VPN :  10,000,000+\n",
      "ICQ — Video Calls & Chat Messenger :  10,000,000+\n",
      "Telegram :  100,000,000+\n",
      "AT&T Messages for Tablet :  1,000,000+\n",
      "T-Mobile DIGITS :  100,000+\n",
      "Truecaller: Caller ID, SMS spam blocking & Dialer :  100,000,000+\n",
      "Portable Wi-Fi hotspot :  10,000,000+\n",
      "AT&T Call Protect :  5,000,000+\n",
      "U - Webinars, Meetings & Messenger :  500,000+\n",
      "UC Browser Mini -Tiny Fast Private & Secure :  100,000,000+\n",
      "/u/app :  10,000+\n",
      "[verify-U] VideoIdent :  10,000+\n",
      "Viber Messenger :  500,000,000+\n",
      "WeChat :  100,000,000+\n",
      "WhatsApp Business :  10,000,000+\n",
      "WhatsCall Free Global Phone Call App & Cheap Calls :  10,000,000+\n",
      "X Browser :  50,000+\n",
      "Yahoo Mail – Stay Organized :  100,000,000+\n",
      "Free Adblocker Browser - Adblock & Popup Blocker :  10,000,000+\n",
      "Adblock Browser for Android :  10,000,000+\n",
      "CM Browser - Ad Blocker , Fast Download , Privacy :  50,000,000+\n",
      "Adblock Plus for Samsung Internet - Browse safe. :  1,000,000+\n",
      "Ad Blocker Turbo - Adblocker Browser :  10,000+\n",
      "Brave Browser: Fast AdBlocker :  5,000,000+\n",
      "AG Contacts, Lite edition :  5,000+\n",
      "Oklahoma Ag Co-op Council :  10+\n",
      "Bee'ah Employee App :  100+\n",
      "tournaments and more.aj.2 :  100+\n",
      "Aj.Petra :  100+\n",
      "AK Phone :  5,000+\n",
      "PlacarTv Futebol Ao Vivo :  100,000+\n",
      "WiFi Access Point (hotspot) :  100,000+\n",
      "Access Point Names :  10,000+\n",
      "Puffin Web Browser :  10,000,000+\n",
      "ClanHQ :  10,000+\n",
      "Ear Agent: Super Hearing :  5,000,000+\n",
      "Google Voice :  10,000,000+\n",
      "Google Allo :  10,000,000+\n",
      "AU Call Blocker - Block Unwanted Calls Texts 2018 :  1,000+\n",
      "Baby Monitor AV :  100,000+\n",
      "AV Phone :  1,000+\n",
      "AW - free video calls and chat :  1,000,000+\n",
      "Katalogen.ax :  100+\n",
      "AZ Browser. Private & Download :  100,000+\n",
      "BA SALES :  1+\n",
      "BD Data Plan (3G & 4G) :  500,000+\n",
      "BD Internet Packages (Updated) :  50,000+\n",
      "BD Dialer :  10,000+\n",
      "BD Live Call :  5,000+\n",
      "Best Browser BD social networking :  10+\n",
      "Traffic signs BD :  500+\n",
      "BF Browser by Betfilter - Stop Gambling Today! :  10,000+\n",
      "My BF App :  50,000+\n",
      "BH Mail :  1,000+\n",
      "Zalo – Video Call :  50,000,000+\n",
      "BJ - Confidential :  10+\n",
      "BK Chat :  1,000+\n",
      "Of the wall Arapaho bk :  5+\n",
      "AC-BL :  50+\n",
      "BBM - Free Calls & Messages :  100,000,000+\n",
      "DMR BrandMeister Tool :  10,000+\n",
      "BBMoji - Your personalized BBM Stickers :  1,000,000+\n",
      "BN MALLORCA Radio :  1,000+\n",
      "BQ Partners :  1,000+\n",
      "BS-Mobile :  50+\n",
      "ATC Unico BS :  500+\n",
      "BT One Voice mobile access :  5,000+\n",
      "BT Messenger :  50,000+\n",
      "BT One Phone Mobile App :  10,000+\n",
      "SW-100.tch by Callstel :  1,000,000+\n",
      "BT MeetMe with Dolby Voice :  100,000+\n",
      "Bluetooth Auto Connect :  5,000,000+\n",
      "AudioBT: BT audio GPS/SMS/Text :  50,000+\n",
      "BV :  100+\n",
      "Feel Performer :  10,000+\n",
      "Tiny Call Confirm :  1,000,000+\n",
      "CB Radio Chat - for friends! :  1,000,000+\n",
      "CB On Mobile :  100,000+\n",
      "Virtual Walkie Talkie :  1,000,000+\n",
      "Channel 19 :  100,000+\n",
      "Cb browser :  50+\n",
      "CF Chat: Connecting Friends :  100+\n",
      "retteMi.ch :  5,000+\n",
      "Chrome Dev :  5,000,000+\n",
      "CJ Browser - Fast & Private :  100+\n",
      "CJ DVD Rentals :  100+\n",
      "CK Call NEW :  10+\n",
      "CM Transfer - Share any files with friends nearby :  5,000,000+\n",
      "mail.co.uk Mail :  5,000+\n",
      "ClanPlay: Community and Tools for Gamers :  1,000,000+\n",
      "CQ-Mobile :  1,000+\n",
      "CQ-Alert :  500+\n",
      "QRZ Assistant :  100,000+\n",
      "Pocket Prefix Plus :  10,000+\n",
      "Ham Radio Prefixes :  10,000+\n",
      "CS Customizer :  1,000+\n",
      "CS Browser | #1 & BEST BROWSER :  1,000+\n",
      "CS Browser Beta :  5,000+\n",
      "My Vodafone (GR) :  1,000,000+\n",
      "IZ2UUF Morse Koch CW :  50,000+\n",
      "C W Browser :  100+\n",
      "CW Bluetooth SPP :  100+\n",
      "CW BLE Peripheral Simulator :  500+\n",
      "Morse Code Reader :  100,000+\n",
      "Learn Morse Code - G0HYN Learn Morse :  5,000+\n",
      "Ring :  10,000+\n",
      "Hyundai CX Conference :  50+\n",
      "Cy Messenger :  100+\n",
      "Amadeus GR & CY :  100+\n",
      "Hlášenírozhlasu.cz :  10+\n",
      "SMS Sender - sluzba.cz :  1,000+\n",
      "WEB.DE Mail :  10,000,000+\n",
      "Your Freedom VPN Client :  5,000,000+\n",
      "CallApp: Caller ID, Blocker & Phone Call Recorder :  10,000,000+\n",
      "Rádio Sol Nascente DF :  500+\n",
      "DG Card :  100+\n",
      "Whoscall - Caller ID & Block :  10,000,000+\n",
      "DK Browser :  10+\n",
      "cluster.dk :  1,000+\n",
      "DK TEL Dialer :  50+\n",
      "DM for WhatsApp :  5,000+\n",
      "DM Talk New :  5,000+\n",
      "DM - The Offical Messaging App :  10+\n",
      "DM Tracker :  1,000+\n",
      "Call Blocker & Blacklist :  1,000+\n",
      "ReadyOp DT :  1,000+\n",
      "DU Browser—Browse fast & fun :  10,000,000+\n",
      "Caller ID & Call Block - DU Caller :  5,000,000+\n",
      "BlueDV AMBE :  1,000+\n",
      "DW Contacts & Phone & Dialer :  1,000,000+\n",
      "Deaf World DW :  10,000+\n",
      "Ham DX Cluster & Spots Finder :  5,000+\n",
      "Mircules DX Cluster Lite :  5,000+\n",
      "3G DZ Configuration :  50,000+\n",
      "chat dz :  100+\n",
      "love sms good morning :  5,000+\n",
      "Goodbox - Mega App :  100,000+\n",
      "Call Blocker - Blacklist, SMS Blocker :  1,000,000+\n",
      "[EF]ShoutBox :  100+\n",
      "Eg Call :  10,000+\n",
      "ei :  10+\n",
      "EJ messenger :  10+\n",
      "Ek IRA :  10+\n",
      "Orfox: Tor Browser for Android :  10,000,000+\n",
      "EO Mumbai :  10+\n",
      "EP RSS Reader :  100+\n",
      "Voxer Walkie Talkie Messenger :  10,000,000+\n",
      "ES-1 :  500+\n",
      "Hangouts Dialer - Call Phones :  10,000,000+\n",
      "EU Council :  1,000+\n",
      "Council Voting Calculator :  5,000+\n",
      "Have your say on Europe :  500+\n",
      "Programi podrške EU :  100+\n",
      "Inbox.eu :  10,000+\n",
      "Web Browser for Android :  1,000,000+\n",
      "Everbridge :  100,000+\n",
      "Best Auto Call Recorder Free :  500+\n",
      "EZ Wifi Notification :  10,000+\n",
      "Test Server SMS FA :  5+\n",
      "Lite for Facebook Messenger :  1,000,000+\n",
      "FC Browser - Focus Privacy Browser :  1,000+\n",
      "EHiN-FH conferenceapp :  100+\n",
      "Carpooling FH Hagenberg :  100+\n",
      "Wi-Fi Auto-connect :  1,000,000+\n",
      "Talkie - Wi-Fi Calling, Chats, File Sharing :  500,000+\n",
      "WeFi - Free Fast WiFi Connect & Find Wi-Fi Map :  1,000,000+\n",
      "Sat-Fi :  5,000+\n",
      "Portable Wi-Fi hotspot Free :  100,000+\n",
      "TownWiFi | Wi-Fi Everywhere :  500,000+\n",
      "Jazz Wi-Fi :  10,000+\n",
      "Sat-Fi Voice :  1,000+\n",
      "Free Wi-fi HotspoT :  50,000+\n",
      "FN Web Radio :  10+\n",
      "FNH Payment Info :  10+\n",
      "MARKET FO :  100+\n",
      "FO OP St-Nazaire :  100+\n",
      "FO SODEXO :  100+\n",
      "FO RCBT :  100+\n",
      "FO Interim :  100+\n",
      "FO PSA Sept-Fons :  100+\n",
      "FO AIRBUS TLSE :  1,000+\n",
      "FO STELIA Méaulte :  100+\n",
      "FO AIRBUS Nantes :  100+\n",
      "Firefox Focus: The privacy browser :  1,000,000+\n",
      "FP Connect :  100+\n",
      "FreedomPop Messaging Phone/SIM :  500,000+\n",
      "FP Live :  10+\n",
      "HipChat - beta version :  50,000+\n"
     ]
    }
   ],
   "source": [
    "for app in android:\n",
    "    if app[1]=='COMMUNICATION':\n",
    "        print(app[0],': ', app[5])"
   ]
  },
  {
   "cell_type": "markdown",
   "metadata": {},
   "source": [
    "We eliminate the big apps from the communication genre and look at the average below. We see that if we eliminate the giant communication apps which have at least 100M installations, the average installation of the rest of the apps is around 3.6M. "
   ]
  },
  {
   "cell_type": "code",
   "execution_count": 31,
   "metadata": {
    "collapsed": false
   },
   "outputs": [
    {
     "name": "stdout",
     "output_type": "stream",
     "text": [
      "3603485.3884615386\n"
     ]
    }
   ],
   "source": [
    "under_100M=[]\n",
    "\n",
    "for app in android:\n",
    "    installs=app[5]  # Installs index: 5\n",
    "    installs= installs.replace('+','')\n",
    "    installs=float(installs.replace(',',''))\n",
    "    if (app[1] == 'COMMUNICATION') and (installs < 100000000):\n",
    "        under_100M.append(installs)\n",
    "avg_installs=sum(under_100M)/len(under_100M)\n",
    "print(avg_installs)"
   ]
  },
  {
   "cell_type": "markdown",
   "metadata": {},
   "source": [
    "The second most installed type of apps is video players.\n"
   ]
  },
  {
   "cell_type": "code",
   "execution_count": 32,
   "metadata": {
    "collapsed": false,
    "scrolled": true
   },
   "outputs": [
    {
     "name": "stdout",
     "output_type": "stream",
     "text": [
      "YouTube :  1,000,000,000+\n",
      "All Video Downloader 2018 :  1,000,000+\n",
      "Video Downloader :  10,000,000+\n",
      "HD Video Player :  1,000,000+\n",
      "Iqiyi (for tablet) :  1,000,000+\n",
      "Video Player All Format :  10,000,000+\n",
      "Motorola Gallery :  100,000,000+\n",
      "Free TV series :  100,000+\n",
      "Video Player All Format for Android :  500,000+\n",
      "VLC for Android :  100,000,000+\n",
      "Code :  10,000,000+\n",
      "Vote for :  50,000,000+\n",
      "XX HD Video downloader-Free Video Downloader :  1,000,000+\n",
      "OBJECTIVE :  1,000,000+\n",
      "Music - Mp3 Player :  10,000,000+\n",
      "HD Movie Video Player :  1,000,000+\n",
      "YouCut - Video Editor & Video Maker, No Watermark :  5,000,000+\n",
      "Video Editor,Crop Video,Movie Video,Music,Effects :  1,000,000+\n",
      "YouTube Studio :  10,000,000+\n",
      "video player for android :  10,000,000+\n",
      "Vigo Video :  50,000,000+\n",
      "Google Play Movies & TV :  1,000,000,000+\n",
      "HTC Service － DLNA :  10,000,000+\n",
      "VPlayer :  1,000,000+\n",
      "MiniMovie - Free Video and Slideshow Editor :  50,000,000+\n",
      "Samsung Video Library :  50,000,000+\n",
      "OnePlus Gallery :  1,000,000+\n",
      "LIKE – Magic Video Maker & Community :  50,000,000+\n",
      "HTC Service—Video Player :  5,000,000+\n",
      "Play Tube :  1,000,000+\n",
      "Droid Zap by Motorola :  5,000,000+\n",
      "video player :  1,000,000+\n",
      "G Guide Program Guide (SOFTBANK EMOBILE WILLCOM version) :  1,000,000+\n",
      "Video.Guru - Video Maker :  1,000,000+\n",
      "HTC Gallery :  10,000,000+\n",
      "PowerDirector Video Editor App: 4K, Slow Mo & More :  10,000,000+\n",
      "Cartoon Network App :  10,000,000+\n",
      "Video Status :  1,000,000+\n",
      "Video Wallpaper Show :  500+\n",
      "SVT Play :  1,000,000+\n",
      "BluTV :  1,000,000+\n",
      "Tencent Video - Supporting the whole network :  1,000,000+\n",
      "Casper Ssinema :  10,000+\n",
      "amazer - Global Kpop Video Community :  100,000+\n",
      "MX Player :  500,000,000+\n",
      "Video Editor :  5,000,000+\n",
      "Omlet Arcade - Stream, Meet, Play :  10,000,000+\n",
      "VUE: video editor & camcorder :  1,000,000+\n",
      "Magisto Video Editor & Maker :  10,000,000+\n",
      "Dubsmash :  100,000,000+\n",
      "DU Recorder – Screen Recorder, Video Editor, Live :  50,000,000+\n",
      "KineMaster – Pro Video Editor :  50,000,000+\n",
      "Mobizen Screen Recorder for SAMSUNG :  10,000,000+\n",
      "Mobizen Screen Recorder for LG - Record, Capture :  1,000,000+\n",
      "M-Sight Pro :  5,000+\n",
      "Sketch 'n' go :  100,000+\n",
      "Q-See Plus :  5,000+\n",
      "Ustream :  10,000,000+\n",
      "VMate :  50,000,000+\n",
      "All Video Downloader :  10,000,000+\n",
      "VidPlay :  1,000,000+\n",
      "HD Video Downloader : 2018 Best video mate :  50,000,000+\n",
      "VivaVideo - Video Editor & Photo Movie :  100,000,000+\n",
      "VideoShow-Video Editor, Video Maker, Beauty Camera :  100,000,000+\n",
      "W Box VMS :  10,000+\n",
      "W Box VMS HD :  5,000+\n",
      "AB Repeat Player :  100,000+\n",
      "A-B repeater :  5,000+\n",
      "Ez Screen Recorder (no ad) :  100,000+\n",
      "Adobe Premiere Clip :  5,000,000+\n",
      "FilmoraGo - Free Video Editor :  10,000,000+\n",
      "ActionDirector Video Editor - Edit Videos Fast :  5,000,000+\n",
      "AJ Player :  100+\n",
      "AK Lodi Films :  100+\n",
      "WiFi Baby Monitor - NannyCam :  5,000,000+\n",
      "Ringdroid :  50,000,000+\n",
      "Multiple Videos at Same Time :  1,000,000+\n",
      "AV-IPTV :  1,000+\n",
      "HD Video Player (wmv,avi,mp4,flv,av,mpg,mkv)2017 :  10,000+\n",
      "HD Video Player - Video & MP3 Player | AV Player | :  5,000+\n",
      "EML UPnP-AV Control Point :  10,000+\n",
      "AW Screen Recorder No Root :  100,000+\n",
      "AX Player -Nougat Video Player :  1,000,000+\n",
      "AX Video Player :  50,000+\n",
      "Ay :  5,000+\n",
      "Ay Sabz Gunbad Waly :  1,000+\n",
      "iMediaShare – Photos & Music :  10,000,000+\n",
      "AZ Screen Recorder - No Root :  10,000,000+\n",
      "Movie Downloader Torrent : Az Torrent :  1,000+\n",
      "A-Z Screen Recorder - :  500+\n",
      "BC iptv player :  1,000+\n",
      "Bc Vod :  100+\n",
      "Funny videos for whatsapp :  1,000,000+\n",
      "BG video - floating video - background video :  5,000+\n",
      "BG MUSIC PLAYER - MUSIC PLAYER :  100+\n",
      "bgtime.tv :  50,000+\n",
      "YourTube Video Views BG :  500+\n",
      "Music for Youtube - Tube Music BG, Red+ :  1,000+\n",
      "BGCN TV :  100,000+\n",
      "AfreecaTV :  10,000,000+\n",
      "BK News Channel :  10,000+\n",
      "BR Video Player :  5,000+\n",
      "BR Series :  50,000+\n",
      "CINE BR :  1,000+\n",
      "iPlayIT for YouTube VR Player :  1,000,000+\n",
      "BSPlayer FREE :  10,000,000+\n",
      "BSPlayer ARMv7 VFP CPU support :  1,000,000+\n",
      "BS player remote :  10,000+\n",
      "BitTorrent®- Torrent Downloads :  10,000,000+\n",
      "Bx-WiFi-GI :  100+\n",
      "BZ Langenthaler Tagblatt :  1,000+\n",
      "Nero AirBurn :  100,000+\n",
      "CI Stream :  10+\n",
      "CJ Camcorder :  500+\n",
      "CJ VLC HD Remote (+ Stream) :  500,000+\n",
      "ACTIVEON CX & CX GOLD :  50,000+\n",
      "CX Monthly Tech News :  500+\n",
      "DG UPnP Player Free :  10,000+\n",
      "DG Screen Recorder :  500+\n",
      "DG Video Editor :  10,000+\n",
      "Video Downloader - for Instagram Repost App :  10,000,000+\n",
      "Quik – Free Video Editor for photos, clips, music :  10,000,000+\n",
      "FrostWire: Torrent Downloader & Music Player :  10,000,000+\n",
      "Inst Download - Video & Photo :  10,000,000+\n",
      "Vuze Torrent Downloader :  1,000,000+\n",
      "AndStream - Streaming Download :  1,000,000+\n",
      "DR TV :  500,000+\n",
      "DS photo :  1,000,000+\n",
      "DS video :  1,000,000+\n",
      "DU Privacy-hide apps、sms、file :  1,000,000+\n",
      "iSmart DV :  1,000,000+\n",
      "dv Prompter :  50,000+\n",
      "DV Lottery Photo :  5,000+\n",
      "MelifeCam-M :  10,000+\n",
      "GoPlus Cam :  500,000+\n",
      "GoAction :  100,000+\n",
      "4K VIDEO PLAYER ULTRA HD :  5,000+\n",
      "Downvids Helper - One touch DW :  10,000+\n",
      "DZ Popup Video Player :  5,000+\n",
      "EC MANAGER :  100+\n",
      "EF Sidekick :  5,000+\n",
      "ek tuhi :  10,000+\n",
      "Naruto Shippuden - Watch Free! :  10,000,000+\n",
      "ES Audio Player ( Shortcut ) :  100,000+\n",
      "Furrion ES Control :  5,000+\n",
      "ES-IPTV :  50,000+\n",
      "EZCast – Cast Media to TV :  1,000,000+\n",
      "EZ Web Video Cast | Chromecast :  100,000+\n",
      "EZ-SEE :  10,000+\n",
      "EZ TV Player :  10,000+\n",
      "EZ Usenet for Easynews® :  10,000+\n",
      "EZ game screen recorder with audio 1080P :  1,000+\n",
      "Videos downloader for Facebook:fast fb video saver :  5,000+\n",
      "Video Downloader for FB : Video Download with Link :  100,000+\n",
      "HD VideoDownlaoder For Fb : XXVideo Downloader :  10,000+\n",
      "HD Video Download for Facebook :  1,000,000+\n",
      "Art of F J Taylor :  10+\n",
      "Motorola FM Radio :  100,000,000+\n",
      "List iptv FR :  100+\n"
     ]
    }
   ],
   "source": [
    "for app in android:\n",
    "    if app[1]=='VIDEO_PLAYERS':\n",
    "        print(app[0],': ', app[5])"
   ]
  },
  {
   "cell_type": "markdown",
   "metadata": {},
   "source": [
    "\"Video Players\" is also dominated by a few big apps such as Youtube and Googl Play. This same trend is being seen for the categories like social apps and photography apps. In all those categories, there are a few apps which are owned by big companies and they are dominantly being used by the users. And it is out of our scope in this analysis to recommend an app type to compete with those giants. \n",
    "\n",
    "Lets look at other categories. Books and Reference is worthed to check. \n"
   ]
  },
  {
   "cell_type": "markdown",
   "metadata": {
    "collapsed": false,
    "scrolled": false
   },
   "source": [
    "for app in android:\n",
    "    if app[1] == 'BOOKS_AND_REFERENCE':\n",
    "        print(app[0], ':', app[5])"
   ]
  },
  {
   "cell_type": "markdown",
   "metadata": {},
   "source": [
    "Dictionaries, religious book apps and some book reading apps and Wikipedia seems to have the highest installations. Let's eliminate the few highly installed apps and see the rest."
   ]
  },
  {
   "cell_type": "code",
   "execution_count": 34,
   "metadata": {
    "collapsed": false,
    "scrolled": true
   },
   "outputs": [
    {
     "name": "stdout",
     "output_type": "stream",
     "text": [
      "Google Play Books : 1,000,000,000+\n",
      "Bible : 100,000,000+\n",
      "Amazon Kindle : 100,000,000+\n",
      "Wattpad 📖 Free Books : 100,000,000+\n",
      "Audiobooks from Audible : 100,000,000+\n"
     ]
    }
   ],
   "source": [
    "for app in android:\n",
    "    if app[1] == 'BOOKS_AND_REFERENCE' and (app[5] == '1,000,000,000+' or app[5] == '500,000,000+' or app[5] == '100,000,000+'):\n",
    "        print(app[0], ':', app[5])"
   ]
  },
  {
   "cell_type": "markdown",
   "metadata": {},
   "source": [
    "Let's see the rest of the apps."
   ]
  },
  {
   "cell_type": "code",
   "execution_count": 38,
   "metadata": {
    "collapsed": false
   },
   "outputs": [
    {
     "name": "stdout",
     "output_type": "stream",
     "text": [
      "E-Book Read - Read Book for free : 50,000+\n",
      "Download free book with green book : 100,000+\n",
      "Wikipedia : 10,000,000+\n",
      "Cool Reader : 10,000,000+\n",
      "Free Panda Radio Music : 100,000+\n",
      "Book store : 1,000,000+\n",
      "FBReader: Favorite Book Reader : 10,000,000+\n",
      "English Grammar Complete Handbook : 500,000+\n",
      "Free Books - Spirit Fanfiction and Stories : 1,000,000+\n",
      "AlReader -any text book reader : 5,000,000+\n",
      "Offline English Dictionary : 100,000+\n",
      "Offline: English to Tagalog Dictionary : 500,000+\n",
      "FamilySearch Tree : 1,000,000+\n",
      "Cloud of Books : 1,000,000+\n",
      "Recipes of Prophetic Medicine for free : 500,000+\n",
      "ReadEra – free ebook reader : 1,000,000+\n",
      "Anonymous caller detection : 10,000+\n",
      "Ebook Reader : 5,000,000+\n",
      "Litnet - E-books : 100,000+\n",
      "Read books online : 5,000,000+\n",
      "English to Urdu Dictionary : 500,000+\n",
      "eBoox: book reader fb2 epub zip : 1,000,000+\n",
      "English Persian Dictionary : 500,000+\n",
      "Flybook : 500,000+\n",
      "All Maths Formulas : 1,000,000+\n",
      "Ancestry : 5,000,000+\n",
      "HTC Help : 10,000,000+\n",
      "English translation from Bengali : 100,000+\n",
      "Pdf Book Download - Read Pdf Book : 100,000+\n",
      "Free Book Reader : 100,000+\n",
      "eBoox new: Reader for fb2 epub zip books : 50,000+\n",
      "Only 30 days in English, the guideline is guaranteed : 500,000+\n",
      "Moon+ Reader : 10,000,000+\n",
      "SH-02J Owner's Manual (Android 8.0) : 50,000+\n",
      "English-Myanmar Dictionary : 1,000,000+\n",
      "Golden Dictionary (EN-AR) : 1,000,000+\n",
      "All Language Translator Free : 1,000,000+\n",
      "Azpen eReader : 500,000+\n",
      "URBANO V 02 instruction manual : 100,000+\n",
      "C Programs and Reference : 50,000+\n",
      "C Offline Tutorial : 1,000+\n",
      "C Programs Handbook : 50,000+\n",
      "Aab e Hayat Full Novel : 100,000+\n",
      "Aldiko Book Reader : 10,000,000+\n",
      "Google I/O 2018 : 500,000+\n",
      "R Language Reference Guide : 10,000+\n",
      "Learn R Programming Full : 5,000+\n",
      "R Programing Offline Tutorial : 1,000+\n",
      "Guide for R Programming : 5+\n",
      "Learn R Programming : 10+\n",
      "R Quick Reference Big Data : 1,000+\n",
      "V Made : 100,000+\n",
      "Dictionary - WordWeb : 5,000,000+\n",
      "Guide (for X-MEN) : 100,000+\n",
      "AC Air condition Troubleshoot,Repair,Maintenance : 5,000+\n",
      "AE Bulletins : 1,000+\n",
      "Ae Allah na Dai (Rasa) : 10,000+\n",
      "50000 Free eBooks & Free AudioBooks : 5,000,000+\n",
      "Ag PhD Field Guide : 10,000+\n",
      "Ag PhD Deficiencies : 10,000+\n",
      "Ag PhD Planting Population Calculator : 1,000+\n",
      "Ag PhD Soybean Diseases : 1,000+\n",
      "Fertilizer Removal By Crop : 50,000+\n",
      "A-J Media Vault : 50+\n",
      "Al-Quran (Free) : 10,000,000+\n",
      "Al Quran (Tafsir & by Word) : 500,000+\n",
      "Al Quran Indonesia : 10,000,000+\n",
      "Al'Quran Bahasa Indonesia : 10,000,000+\n",
      "Al Quran Al karim : 1,000,000+\n",
      "Al-Muhaffiz : 50,000+\n",
      "Al Quran : EAlim - Translations & MP3 Offline : 5,000,000+\n",
      "Al-Quran 30 Juz free copies : 500,000+\n",
      "Koran Read &MP3 30 Juz Offline : 1,000,000+\n",
      "Hafizi Quran 15 lines per page : 1,000,000+\n",
      "Quran for Android : 10,000,000+\n",
      "Surah Al-Waqiah : 100,000+\n",
      "Hisnul Al Muslim - Hisn Invocations & Adhkaar : 100,000+\n",
      "Satellite AR : 1,000,000+\n",
      "Kinot & Eichah for Tisha B'Av : 10,000+\n",
      "AW Tozer Devotionals - Daily : 5,000+\n",
      "Tozer Devotional -Series 1 : 1,000+\n",
      "The Pursuit of God : 1,000+\n",
      "AY Sing : 5,000+\n",
      "Ay Hasnain k Nana Milad Naat : 10,000+\n",
      "Ay Mohabbat Teri Khatir Novel : 10,000+\n",
      "Arizona Statutes, ARS (AZ Law) : 1,000+\n",
      "Oxford A-Z of English Usage : 1,000,000+\n",
      "BD Fishpedia : 1,000+\n",
      "BD All Sim Offer : 10,000+\n",
      "Youboox - Livres, BD et magazines : 500,000+\n",
      "B&H Kids AR : 10,000+\n",
      "B y H Niños ES : 5,000+\n",
      "Dictionary.com: Find Definitions for English Words : 10,000,000+\n",
      "English Dictionary - Offline : 10,000,000+\n",
      "Bible KJV : 5,000,000+\n",
      "Borneo Bible, BM Bible : 10,000+\n",
      "MOD Black for BM : 100+\n",
      "BM Box : 1,000+\n",
      "Anime Mod for BM : 100+\n",
      "NOOK: Read eBooks & Magazines : 10,000,000+\n",
      "NOOK Audiobooks : 500,000+\n",
      "NOOK App for NOOK Devices : 500,000+\n",
      "Browsery by Barnes & Noble : 5,000+\n",
      "bp e-store : 1,000+\n",
      "Brilliant Quotes: Life, Love, Family & Motivation : 1,000,000+\n",
      "BR Ambedkar Biography & Quotes : 10,000+\n",
      "BU Alsace : 100+\n",
      "Catholic La Bu Zo Kam : 500+\n",
      "Khrifa Hla Bu (Solfa) : 10+\n",
      "Kristian Hla Bu : 10,000+\n",
      "SA HLA BU : 1,000+\n",
      "Learn SAP BW : 500+\n",
      "Learn SAP BW on HANA : 500+\n",
      "CA Laws 2018 (California Laws and Codes) : 5,000+\n",
      "Bootable Methods(USB-CD-DVD) : 10,000+\n",
      "cloudLibrary : 100,000+\n",
      "SDA Collegiate Quarterly : 500+\n",
      "Sabbath School : 100,000+\n",
      "Cypress College Library : 100+\n",
      "Stats Royale for Clash Royale : 1,000,000+\n",
      "GATE 21 years CS Papers(2011-2018 Solved) : 50+\n",
      "Learn CT Scan Of Head : 5,000+\n",
      "Easy Cv maker 2018 : 10,000+\n",
      "How to Write CV : 100,000+\n",
      "CW Nuclear : 1,000+\n",
      "CY Spray nozzle : 10+\n",
      "BibleRead En Cy Zh Yue : 5+\n",
      "CZ-Help : 5+\n",
      "Modlitební knížka CZ : 500+\n",
      "Guide for DB Xenoverse : 10,000+\n",
      "Guide for DB Xenoverse 2 : 10,000+\n",
      "Guide for IMS DB : 10+\n",
      "DC HSEMA : 5,000+\n",
      "DC Public Library : 1,000+\n",
      "Painting Lulu DC Super Friends : 1,000+\n",
      "Dictionary : 10,000,000+\n",
      "Fix Error Google Playstore : 1,000+\n",
      "D. H. Lawrence Poems FREE : 1,000+\n",
      "Bilingual Dictionary Audio App : 5,000+\n",
      "DM Screen : 10,000+\n",
      "wikiHow: how to do anything : 1,000,000+\n",
      "Dr. Doug's Tips : 1,000+\n",
      "Bible du Semeur-BDS (French) : 50,000+\n",
      "La citadelle du musulman : 50,000+\n",
      "DV 2019 Entry Guide : 10,000+\n",
      "DV 2019 - EDV Photo & Form : 50,000+\n",
      "DV 2018 Winners Guide : 1,000+\n",
      "EB Annual Meetings : 1,000+\n",
      "EC - AP & Telangana : 5,000+\n",
      "TN Patta Citta & EC : 10,000+\n",
      "AP Stamps and Registration : 10,000+\n",
      "CompactiMa EC pH Calibration : 100+\n",
      "EGW Writings 2 : 100,000+\n",
      "EGW Writings : 1,000,000+\n",
      "Bible with EGW Comments : 100,000+\n",
      "My Little Pony AR Guide : 1,000,000+\n",
      "SDA Sabbath School Quarterly : 500,000+\n",
      "Duaa Ek Ibaadat : 5,000+\n",
      "Spanish English Translator : 10,000,000+\n",
      "Dictionary - Merriam-Webster : 10,000,000+\n",
      "JW Library : 10,000,000+\n",
      "Oxford Dictionary of English : Free : 10,000,000+\n",
      "English Hindi Dictionary : 10,000,000+\n",
      "English to Hindi Dictionary : 5,000,000+\n",
      "EP Research Service : 1,000+\n",
      "Hymnes et Louanges : 100,000+\n",
      "EU Charter : 1,000+\n",
      "EU Data Protection : 1,000+\n",
      "EU IP Codes : 100+\n",
      "EW PDF : 5+\n",
      "BakaReader EX : 100,000+\n",
      "EZ Quran : 50,000+\n",
      "FA Part 1 & 2 Past Papers Solved Free – Offline : 5,000+\n",
      "La Fe de Jesus : 1,000+\n",
      "La Fe de Jesús : 500+\n",
      "Le Fe de Jesus : 500+\n",
      "Florida - Pocket Brainbook : 1,000+\n",
      "Florida Statutes (FL Code) : 1,000+\n",
      "English To Shona Dictionary : 10,000+\n",
      "Greek Bible FP (Audio) : 1,000+\n",
      "Golden Dictionary (FR-AR) : 500,000+\n",
      "Fanfic-FR : 5,000+\n",
      "Bulgarian French Dictionary Fr : 10,000+\n",
      "Chemin (fr) : 1,000+\n",
      "The SCP Foundation DB fr nn5n : 1,000+\n"
     ]
    }
   ],
   "source": [
    "for app in android:\n",
    "    if app[1] == 'BOOKS_AND_REFERENCE' and (app[5] != '1,000,000,000+' and app[5] != '500,000,000+' and app[5] != '100,000,000+'):\n",
    "        print(app[0], ':', app[5])"
   ]
  },
  {
   "cell_type": "markdown",
   "metadata": {},
   "source": [
    "Building an app around a popular book seems to be promising in terms of attracting users. Our analysis with applestore data also showed us the potential in this category. So we recommend choosing a popular book and creating an app around it. It would be a good idea to be creative and add some new features in the app.   "
   ]
  }
 ],
 "metadata": {
  "kernelspec": {
   "display_name": "Python 3",
   "language": "python",
   "name": "python3"
  },
  "language_info": {
   "codemirror_mode": {
    "name": "ipython",
    "version": 3
   },
   "file_extension": ".py",
   "mimetype": "text/x-python",
   "name": "python",
   "nbconvert_exporter": "python",
   "pygments_lexer": "ipython3",
   "version": "3.4.3"
  }
 },
 "nbformat": 4,
 "nbformat_minor": 2
}
